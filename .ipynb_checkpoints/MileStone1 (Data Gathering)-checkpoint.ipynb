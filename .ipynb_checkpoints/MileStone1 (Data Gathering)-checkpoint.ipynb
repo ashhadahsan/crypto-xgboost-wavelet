{
 "cells": [
  {
   "cell_type": "code",
   "execution_count": 1,
   "metadata": {},
   "outputs": [],
   "source": [
    "from ta.momentum import PercentagePriceOscillator,RSIIndicator,ROCIndicator,WilliamsRIndicator,StochRSIIndicator\n",
    "from ta.trend import MACD,ADXIndicator,CCIIndicator,sma_indicator,ema_indicator,PSARIndicator\n",
    "from ta.volatility import BollingerBands,AverageTrueRange\n",
    "from ta.volume import OnBalanceVolumeIndicator,ChaikinMoneyFlowIndicator,MFIIndicator\n",
    "import warnings\n",
    "warnings.simplefilter('ignore')\n",
    "import numpy as np"
   ]
  },
  {
   "cell_type": "code",
   "execution_count": 2,
   "metadata": {},
   "outputs": [],
   "source": [
    "import pandas as pd\n",
    "from binance import Client\n"
   ]
  },
  {
   "cell_type": "code",
   "execution_count": 3,
   "metadata": {},
   "outputs": [],
   "source": [
    "def get_binance_data(api_key, pair, countdown='open', interval='4h', start='1 November 2019', end='1 December 2022'):\n",
    "  client = Client(api_key=api_key)\n",
    "  intervals = {\n",
    "      '1h':  Client.KLINE_INTERVAL_1HOUR\n",
    "  }\n",
    "  interval = intervals.get(interval, '1h')\n",
    "  print(f'Historical interval {interval}')\n",
    "  klines = client.get_historical_klines(symbol=pair, interval=interval, start_str=start, end_str=end)\n",
    "  data = pd.DataFrame(klines)\n",
    "  data.columns = ['open_time','open', 'high', 'low', 'close', 'volume','close_time', 'qav','num_trades','taker_base_vol','taker_quote_vol', 'ignore']\n",
    "  data.index = [pd.to_datetime(x, unit='ms').strftime('%Y-%m-%d %H:%M:%S') for x in data.open_time]\n",
    "  usecols=['open', 'high', 'low', 'close', 'volume']\n",
    "  data = data[usecols]\n",
    "  data = data.astype('float')\n",
    "  return data"
   ]
  },
  {
   "cell_type": "code",
   "execution_count": 4,
   "metadata": {},
   "outputs": [],
   "source": [
    "api_key=\"LmId7IJ05Pft6aR9JtGhmlauJ9DfTHtH9BhWIdbYPkCBowbwejnLCExCR93gqhTT\"\n",
    "secret_key=\"MUuJx69AafPeVGbO5yuCEhSULacvxJm0lWlrVZJAa6Il1ZcIkgznt9Ru7JtifUPb\""
   ]
  },
  {
   "cell_type": "code",
   "execution_count": 5,
   "metadata": {},
   "outputs": [],
   "source": [
    "from scipy.stats import linregress\n",
    "def momentum(closes):\n",
    "    returns = np.log(closes)\n",
    "    x = np.arange(len(returns))\n",
    "    slope, _, rvalue, _, _ = linregress(x, returns)\n",
    "    return ((1 + slope) ** 252) * (rvalue ** 2)  # annualize slope and multiply by R^2"
   ]
  },
  {
   "cell_type": "code",
   "execution_count": 6,
   "metadata": {},
   "outputs": [],
   "source": [
    "#ppo\n",
    "def get_features(btc,fill=False):\n",
    "    indicator_ppo = PercentagePriceOscillator(close=btc[\"close\"],fillna=fill)\n",
    "    indicator_rsi= RSIIndicator(close=btc['close'],fillna=fill)\n",
    "    indicator_adx= ADXIndicator(high=btc['high'],low=btc['low'],close=btc['close'],fillna=fill)\n",
    "    indicator_cci=CCIIndicator(high=btc['high'],low=btc['low'],close=btc['close'],fillna=fill)\n",
    "    indicator_roc = ROCIndicator(close=btc['close'],fillna=fill)\n",
    "    indicator_macd=MACD(close=btc['close'],fillna=fill)\n",
    "    indicator_william_r = WilliamsRIndicator(high=btc['high'],low=btc['low'],close=btc['close'],fillna=fill)\n",
    "    indicator_bollinger= BollingerBands(close=btc['close'],fillna=fill)\n",
    "    indicator_psa_r = PSARIndicator(high=btc['high'],low=btc['low'],close=btc['close'],fillna=fill)\n",
    "    indicator_obv=OnBalanceVolumeIndicator(close=btc['close'],volume=btc['volume'],fillna=fill)\n",
    "    indicator_chaikin=ChaikinMoneyFlowIndicator(high=btc['high'],low=btc['low'],close=btc['close'],volume=btc['volume'],fillna=fill)\n",
    "    indicator_mfi= MFIIndicator(high=btc['high'],low=btc['low'],close=btc['close'],volume=btc['volume'],fillna=fill)\n",
    "    indicator_ATR = AverageTrueRange(high=btc['high'],low=btc['low'],close=btc['close'],fillna=fill)\n",
    "    indicator_stoch=StochRSIIndicator(close=btc['close'],fillna=fill)\n",
    "    btc['rsi']=indicator_rsi.rsi()\n",
    "\n",
    "    btc['ppo']=indicator_ppo.ppo()\n",
    "    btc['macd']=indicator_macd.macd()\n",
    "    btc['macd_signal']=indicator_macd.macd_signal()\n",
    "    btc['macd_histogram']=indicator_macd.macd_diff()\n",
    "\n",
    "    btc['adx']=indicator_adx.adx()\n",
    "    btc['cci']=indicator_cci.cci()\n",
    "    btc['roc']=indicator_roc.roc()\n",
    "    btc['william_r']=indicator_william_r.williams_r()\n",
    "    btc['sma20']=sma_indicator(close=btc['close'],window=20,fillna=fill)\n",
    "    btc['sma50']=sma_indicator(close=btc['close'],window=50,fillna=fill)\n",
    "    btc['sma100']=sma_indicator(close=btc['close'],window=100,fillna=fill)\n",
    "    btc['ema20']=ema_indicator(close=btc['close'],window=20,fillna=fill)\n",
    "    btc['ema50']=ema_indicator(close=btc['close'],window=50,fillna=fill)\n",
    "    btc['ema100']=ema_indicator(close=btc['close'],window=100,fillna=fill)\n",
    "    btc['bollinger_high']=indicator_bollinger.bollinger_hband()\n",
    "    btc['bollinger_low']=indicator_bollinger.bollinger_lband()\n",
    "    btc['bollinger_pband']=indicator_bollinger.bollinger_pband()\n",
    "    btc['psa_r']=indicator_psa_r.psar()\n",
    "    btc['obv']=indicator_obv.on_balance_volume()\n",
    "    btc['cmf']=indicator_chaikin.chaikin_money_flow()\n",
    "    btc['mfi']=indicator_mfi.money_flow_index()\n",
    "    btc['atr']=indicator_ATR.average_true_range()\n",
    "    btc[r'%d']=indicator_stoch.stochrsi_d()\n",
    "    btc[r'%k']=indicator_stoch.stochrsi_k()\n",
    "    btc['momentum']=btc['close'].rolling(90).apply(momentum,raw=False)\n",
    "    return btc"
   ]
  },
  {
   "cell_type": "code",
   "execution_count": null,
   "metadata": {},
   "outputs": [
    {
     "name": "stdout",
     "output_type": "stream",
     "text": [
      "Historical interval 1h\n",
      "Historical interval 1h\n"
     ]
    }
   ],
   "source": [
    "btc=get_binance_data(api_key=api_key,pair=\"BTCBUSD\")\n",
    "btc=get_features(btc=btc)\n",
    "eth=get_binance_data(api_key=api_key,pair=\"ETHBUSD\")\n",
    "eth=get_features(btc=eth)\n",
    "bnb=get_binance_data(api_key=api_key,pair=\"BNBBUSD\")\n",
    "bnb=get_features(btc=bnb)"
   ]
  },
  {
   "cell_type": "code",
   "execution_count": null,
   "metadata": {},
   "outputs": [],
   "source": [
    "btc.head()"
   ]
  },
  {
   "cell_type": "code",
   "execution_count": null,
   "metadata": {},
   "outputs": [],
   "source": [
    "eth.head()"
   ]
  },
  {
   "cell_type": "code",
   "execution_count": null,
   "metadata": {},
   "outputs": [],
   "source": [
    "bnb.head()"
   ]
  },
  {
   "cell_type": "code",
   "execution_count": null,
   "metadata": {},
   "outputs": [],
   "source": [
    "print(f\"Number of features in BTC: {btc.shape[1]}\")\n",
    "print(f\"Number of features in ETH: {eth.shape[1]}\")\n",
    "print(f\"Number of features in BNBs: {bnb.shape[1]}\")"
   ]
  },
  {
   "cell_type": "code",
   "execution_count": null,
   "metadata": {},
   "outputs": [],
   "source": [
    "import plotly.express as px\n",
    "fig = px.line(btc, x=btc.index.values, y=\"close\", title='BTC Close Price')\n",
    "fig.show()"
   ]
  },
  {
   "cell_type": "code",
   "execution_count": null,
   "metadata": {},
   "outputs": [],
   "source": [
    "import plotly.graph_objects as go\n",
    "fig = go.Figure(go.Candlestick(x=btc.index,\n",
    "  open=btc['open'],\n",
    "  high=btc['high'],\n",
    "  low=btc['low'],\n",
    "  close=btc['close']))\n",
    "# removing all empty dates\n",
    "# build complete timeline from start date to end date\n",
    "dt_all = pd.date_range(start=btc.index[0],end=btc.index[-1])\n",
    "# retrieve the dates that ARE in the original datset\n",
    "dt_obs = [d.strftime(\"%Y-%m-%d\") for d in pd.to_datetime(btc.index)]\n",
    "# define dates with missing values\n",
    "dt_breaks = [d for d in dt_all.strftime(\"%Y-%m-%d\").tolist() if not d in dt_obs]\n",
    "fig.update_xaxes(rangebreaks=[dict(values=dt_breaks)])\n",
    "fig.update_layout(\n",
    "    title={\n",
    "        'text': \"BTC\",})\n",
    "\n",
    "fig.show()"
   ]
  },
  {
   "cell_type": "code",
   "execution_count": null,
   "metadata": {},
   "outputs": [],
   "source": [
    "import plotly.graph_objects as go\n",
    "fig = go.Figure(go.Candlestick(x=btc.index,\n",
    "  open=btc['open'],\n",
    "  high=btc['high'],\n",
    "  low=btc['low'],\n",
    "  close=btc['close']))\n",
    "fig.add_trace(go.Scatter(x=btc.index, \n",
    "                         y=btc['sma100'], \n",
    "                         opacity=0.7, \n",
    "                         line=dict(color='yellow', width=2), \n",
    "                         name='SMA100'))\n",
    "fig.add_trace(go.Scatter(x=btc.index, \n",
    "                         y=btc['sma50'], \n",
    "                         opacity=0.7, \n",
    "                         line=dict(color='blue', width=2), \n",
    "                         name='SMA50'))\n",
    "fig.add_trace(go.Scatter(x=btc.index, \n",
    "                         y=btc['sma20'], \n",
    "                         opacity=0.7, \n",
    "                         line=dict(color='orange', width=2), \n",
    "                         name='SMA20'))\n",
    "# removing all empty dates\n",
    "# build complete timeline from start date to end date\n",
    "dt_all = pd.date_range(start=btc.index[0],end=btc.index[-1])\n",
    "# retrieve the dates that ARE in the original datset\n",
    "dt_obs = [d.strftime(\"%Y-%m-%d\") for d in pd.to_datetime(btc.index)]\n",
    "# define dates with missing values\n",
    "dt_breaks = [d for d in dt_all.strftime(\"%Y-%m-%d\").tolist() if not d in dt_obs]\n",
    "fig.update_xaxes(rangebreaks=[dict(values=dt_breaks)])\n",
    "fig.update_layout(\n",
    "    title={\n",
    "        'text': \"BTCBUSD\",})\n",
    "\n",
    "fig.show()"
   ]
  },
  {
   "cell_type": "code",
   "execution_count": null,
   "metadata": {},
   "outputs": [],
   "source": [
    "import plotly.graph_objects as go\n",
    "fig = go.Figure(go.Candlestick(x=eth.index,\n",
    "  open=eth['open'],\n",
    "  high=eth['high'],\n",
    "  low=eth['low'],\n",
    "  close=eth['close']))\n",
    "fig.add_trace(go.Scatter(x=eth.index, \n",
    "                         y=eth['sma100'], \n",
    "                         opacity=0.7, \n",
    "                         line=dict(color='yellow', width=2), \n",
    "                         name='SMA100'))\n",
    "fig.add_trace(go.Scatter(x=eth.index, \n",
    "                         y=eth['sma50'], \n",
    "                         opacity=0.7, \n",
    "                         line=dict(color='blue', width=2), \n",
    "                         name='SMA50'))\n",
    "fig.add_trace(go.Scatter(x=eth.index, \n",
    "                         y=eth['sma20'], \n",
    "                         opacity=0.7, \n",
    "                         line=dict(color='orange', width=2), \n",
    "                         name='SMA20'))\n",
    "# removing all empty dates\n",
    "# build complete timeline from start date to end date\n",
    "dt_all = pd.date_range(start=eth.index[0],end=eth.index[-1])\n",
    "# retrieve the dates that ARE in the original datset\n",
    "dt_obs = [d.strftime(\"%Y-%m-%d\") for d in pd.to_datetime(eth.index)]\n",
    "# define dates with missing values\n",
    "dt_breaks = [d for d in dt_all.strftime(\"%Y-%m-%d\").tolist() if not d in dt_obs]\n",
    "fig.update_xaxes(rangebreaks=[dict(values=dt_breaks)])\n",
    "fig.update_layout(\n",
    "    title={\n",
    "        'text': \"ETHBUSD\",})\n",
    "\n",
    "fig.show()"
   ]
  },
  {
   "cell_type": "code",
   "execution_count": null,
   "metadata": {},
   "outputs": [],
   "source": [
    "import plotly.graph_objects as go\n",
    "fig = go.Figure(go.Candlestick(x=bnb.index,\n",
    "  open=bnb['open'],\n",
    "  high=bnb['high'],\n",
    "  low=bnb['low'],\n",
    "  close=bnb['close']))\n",
    "fig.add_trace(go.Scatter(x=bnb.index, \n",
    "                         y=bnb['sma100'], \n",
    "                         opacity=0.7, \n",
    "                         line=dict(color='yellow', width=2), \n",
    "                         name='SMA100'))\n",
    "fig.add_trace(go.Scatter(x=bnb.index, \n",
    "                         y=bnb['sma50'], \n",
    "                         opacity=0.7, \n",
    "                         line=dict(color='blue', width=2), \n",
    "                         name='SMA50'))\n",
    "fig.add_trace(go.Scatter(x=bnb.index, \n",
    "                         y=bnb['sma20'], \n",
    "                         opacity=0.7, \n",
    "                         line=dict(color='orange', width=2), \n",
    "                         name='SMA20'))\n",
    "# removing all empty dates\n",
    "# build complete timeline from start date to end date\n",
    "dt_all = pd.date_range(start=bnb.index[0],end=bnb.index[-1])\n",
    "# retrieve the dates that ARE in the original datset\n",
    "dt_obs = [d.strftime(\"%Y-%m-%d\") for d in pd.to_datetime(bnb.index)]\n",
    "# define dates with missing values\n",
    "dt_breaks = [d for d in dt_all.strftime(\"%Y-%m-%d\").tolist() if not d in dt_obs]\n",
    "fig.update_xaxes(rangebreaks=[dict(values=dt_breaks)])\n",
    "fig.update_layout(\n",
    "    title={\n",
    "        'text': \"BNBBUSD\",})\n",
    "\n",
    "fig.show()"
   ]
  },
  {
   "cell_type": "code",
   "execution_count": null,
   "metadata": {},
   "outputs": [],
   "source": [
    "from plotly.subplots import make_subplots\n",
    "fig = make_subplots(rows=2, cols=1, shared_xaxes=True,\n",
    "                    vertical_spacing=0.01, \n",
    "                    row_heights=[0.5,0.5])\n",
    "# Plot volume trace on 2nd row \n",
    "colors = ['green' if row['open'] - row['close'] >= 0 \n",
    "          else 'red' for index, row in btc.iterrows()]\n",
    "fig.add_trace(go.Bar(x=btc.index, \n",
    "                     y=btc['volume'],marker_color=colors\n",
    "                    ), row=1, col=1)\n",
    "# Plot MACD trace on 3rd row\n",
    "colors = ['green' if val >= 0 \n",
    "          else 'red' for val in btc['macd_histogram']]\n",
    "fig.add_trace(go.Bar(x=btc.index, \n",
    "                     y=btc['macd_histogram'],marker_color=colors,\n",
    "                    ), row=2, col=1)\n",
    "fig.add_trace(go.Scatter(x=btc.index,\n",
    "                         y=btc['macd'],\n",
    "                         line=dict(color='black', width=2)\n",
    "                        ), row=2, col=1)\n",
    "fig.add_trace(go.Scatter(x=btc.index,\n",
    "                         y=btc['macd_signal'],\n",
    "                         line=dict(color='blue', width=1)\n",
    "                        ), row=2, col=1)\n",
    "\n",
    "# update layout by changing the plot size, hiding legends & rangeslider, and removing gaps between dates\n",
    "fig.update_layout(height=900, width=1200, \n",
    "                  showlegend=False, \n",
    "                  xaxis_rangeslider_visible=False,\n",
    "                  xaxis_rangebreaks=[dict(values=dt_breaks)])\n",
    "fig.update_yaxes(title_text=\"Volume\", row=1, col=1)\n",
    "fig.update_yaxes(title_text=\"MACD\", showgrid=False, row=2, col=1)"
   ]
  },
  {
   "cell_type": "code",
   "execution_count": null,
   "metadata": {},
   "outputs": [],
   "source": [
    "from plotly.subplots import make_subplots\n",
    "fig = make_subplots(rows=2, cols=1, shared_xaxes=True,\n",
    "                    vertical_spacing=0.01, \n",
    "                    row_heights=[0.5,0.5])\n",
    "# Plot volume trace on 2nd row \n",
    "colors = ['green' if row['open'] - row['close'] >= 0 \n",
    "          else 'red' for index, row in eth.iterrows()]\n",
    "fig.add_trace(go.Bar(x=eth.index, \n",
    "                     y=eth['volume'],marker_color=colors\n",
    "                    ), row=1, col=1)\n",
    "# Plot MACD trace on 3rd row\n",
    "colors = ['green' if val >= 0 \n",
    "          else 'red' for val in eth['macd_histogram']]\n",
    "fig.add_trace(go.Bar(x=eth.index, \n",
    "                     y=eth['macd_histogram'],marker_color=colors,\n",
    "                    ), row=2, col=1)\n",
    "fig.add_trace(go.Scatter(x=eth.index,\n",
    "                         y=eth['macd'],\n",
    "                         line=dict(color='black', width=2)\n",
    "                        ), row=2, col=1)\n",
    "fig.add_trace(go.Scatter(x=eth.index,\n",
    "                         y=eth['macd_signal'],\n",
    "                         line=dict(color='blue', width=1)\n",
    "                        ), row=2, col=1)\n",
    "\n",
    "# update layout by changing the plot size, hiding legends & rangeslider, and removing gaps between dates\n",
    "fig.update_layout(height=900, width=1200, \n",
    "                  showlegend=False, \n",
    "                  xaxis_rangeslider_visible=False,\n",
    "                  xaxis_rangebreaks=[dict(values=dt_breaks)])\n",
    "fig.update_yaxes(title_text=\"Volume\", row=1, col=1)\n",
    "fig.update_yaxes(title_text=\"MACD\", showgrid=False, row=2, col=1)"
   ]
  },
  {
   "cell_type": "code",
   "execution_count": null,
   "metadata": {},
   "outputs": [],
   "source": [
    "from plotly.subplots import make_subplots\n",
    "fig = make_subplots(rows=2, cols=1, shared_xaxes=True,\n",
    "                    vertical_spacing=0.01, \n",
    "                    row_heights=[0.5,0.5])\n",
    "# Plot volume trace on 2nd row \n",
    "colors = ['green' if row['open'] - row['close'] >= 0 \n",
    "          else 'red' for index, row in bnb.iterrows()]\n",
    "fig.add_trace(go.Bar(x=bnb.index, \n",
    "                     y=bnb['volume'],marker_color=colors\n",
    "                    ), row=1, col=1)\n",
    "# Plot MACD trace on 3rd row\n",
    "colors = ['green' if val >= 0 \n",
    "          else 'red' for val in bnb['macd_histogram']]\n",
    "fig.add_trace(go.Bar(x=bnb.index, \n",
    "                     y=bnb['macd_histogram'],marker_color=colors,\n",
    "                    ), row=2, col=1)\n",
    "fig.add_trace(go.Scatter(x=bnb.index,\n",
    "                         y=bnb['macd'],\n",
    "                         line=dict(color='black', width=2)\n",
    "                        ), row=2, col=1)\n",
    "fig.add_trace(go.Scatter(x=bnb.index,\n",
    "                         y=bnb['macd_signal'],\n",
    "                         line=dict(color='blue', width=1)\n",
    "                        ), row=2, col=1)\n",
    "\n",
    "# update layout by changing the plot size, hiding legends & rangeslider, and removing gaps between dates\n",
    "fig.update_layout(height=900, width=1200, \n",
    "                  showlegend=False, \n",
    "                  xaxis_rangeslider_visible=False,\n",
    "                  xaxis_rangebreaks=[dict(values=dt_breaks)])\n",
    "fig.update_yaxes(title_text=\"Volume\", row=1, col=1)\n",
    "fig.update_yaxes(title_text=\"MACD\", showgrid=False, row=2, col=1)"
   ]
  },
  {
   "cell_type": "code",
   "execution_count": null,
   "metadata": {},
   "outputs": [],
   "source": []
  }
 ],
 "metadata": {
  "kernelspec": {
   "display_name": "Python 3 (ipykernel)",
   "language": "python",
   "name": "python3"
  },
  "language_info": {
   "codemirror_mode": {
    "name": "ipython",
    "version": 3
   },
   "file_extension": ".py",
   "mimetype": "text/x-python",
   "name": "python",
   "nbconvert_exporter": "python",
   "pygments_lexer": "ipython3",
   "version": "3.7.16"
  },
  "vscode": {
   "interpreter": {
    "hash": "fa5de1411ea61bfd66a0c0bf52e9adc19e24dff7c60786f8634d62e397cc7ae3"
   }
  }
 },
 "nbformat": 4,
 "nbformat_minor": 2
}
